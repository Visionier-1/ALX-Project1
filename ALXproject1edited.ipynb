{
 "cells": [
  {
   "cell_type": "markdown",
   "id": "b44dc2b9",
   "metadata": {},
   "source": [
    "# Project: TMDB Data Analysis\n",
    "## Table of Contents\n",
    "<ul>\n",
    "<li><a href=\"#intro\">Introduction</a></li>\n",
    "<li><a href=\"#wrangling\">Data Wrangling</a></li>\n",
    "<li><a href=\"#eda\">Exploratory Data Analysis</a></li>\n",
    "<li><a href=\"#conclusions\">Conclusions</a></li>\n",
    "</ul>"
   ]
  },
  {
   "cell_type": "markdown",
   "id": "fc75bf73",
   "metadata": {},
   "source": [
    "<a id='intro'></a>\n",
    "## Introduction\n",
    "\n",
    "### Dataset Description \n",
    "\n",
    "In this project I will be analyzing dataset that contains information about 10,000 movies collected from The Movie Database (TMDb), including user ratings and revenue. There are 21 columns and 10866 entries. The columns are Movie id, imdb id, popularity, budget, revenue, original title, cast, homepage and the director of the movie.  These info help to uniquely identify the movie.\n",
    "\n",
    "There are also columns on Tagline, keywords, overview, runtime and the genres of the movie. This info help prospective viewers to choose which movie they prefer. Also, information on the movie's production companies, release date, vote count, vote average, and release year are provided.\n",
    "\n",
    "The budget and revenue of the associated movie in terms of 2010 dollars, accounting for inflation over time were given in the last two columns: budget adj and revenue adj.\n",
    "\n",
    "### Questions for Analysis\n",
    "1. Research Question 1: Which year have the highest revenue generated, the top 5?\n",
    "2. Which genres are most popular from year to year?\n",
    "3. What is the most popular genre?\n",
    "4. What kinds of properties are associated with movies that have high revenues?\n",
    "5. "
   ]
  },
  {
   "cell_type": "code",
   "execution_count": 77,
   "id": "b990f8a1",
   "metadata": {},
   "outputs": [],
   "source": [
    "import pandas as pd\n",
    "import numpy as np\n",
    "import matplotlib.pyplot as plt\n",
    "import seaborn as sb\n",
    "%matplotlib inline"
   ]
  },
  {
   "cell_type": "markdown",
   "id": "1c6ed581",
   "metadata": {},
   "source": [
    "<a id='wrangling'></a>\n",
    "## Data Wrangling\n",
    "\n",
    "Here I load the dataset and check the quality, structure and cleanliness"
   ]
  },
  {
   "cell_type": "code",
   "execution_count": 78,
   "id": "8624acca",
   "metadata": {},
   "outputs": [],
   "source": [
    "df = pd.read_csv('tmdb-movies.csv')"
   ]
  },
  {
   "cell_type": "markdown",
   "id": "1f3314c9",
   "metadata": {},
   "source": [
    "Some columns like 'Id', 'imdb' are unnecessary for my analysis so I have to remove them"
   ]
  },
  {
   "cell_type": "code",
   "execution_count": 79,
   "id": "8fc01254",
   "metadata": {},
   "outputs": [],
   "source": [
    "dropped_columns = ['id', 'imdb_id', 'original_title', 'cast', 'homepage', 'director', 'tagline', 'keywords', 'overview', 'runtime']\n",
    "for columns in dropped_columns:\n",
    "    if columns in df.columns:\n",
    "        df.drop(columns, axis = 1, inplace = True)"
   ]
  },
  {
   "cell_type": "code",
   "execution_count": 80,
   "id": "0f54f77d",
   "metadata": {},
   "outputs": [
    {
     "data": {
      "text/html": [
       "<div>\n",
       "<style scoped>\n",
       "    .dataframe tbody tr th:only-of-type {\n",
       "        vertical-align: middle;\n",
       "    }\n",
       "\n",
       "    .dataframe tbody tr th {\n",
       "        vertical-align: top;\n",
       "    }\n",
       "\n",
       "    .dataframe thead th {\n",
       "        text-align: right;\n",
       "    }\n",
       "</style>\n",
       "<table border=\"1\" class=\"dataframe\">\n",
       "  <thead>\n",
       "    <tr style=\"text-align: right;\">\n",
       "      <th></th>\n",
       "      <th>popularity</th>\n",
       "      <th>budget</th>\n",
       "      <th>revenue</th>\n",
       "      <th>genres</th>\n",
       "      <th>production_companies</th>\n",
       "      <th>release_date</th>\n",
       "      <th>vote_count</th>\n",
       "      <th>vote_average</th>\n",
       "      <th>release_year</th>\n",
       "      <th>budget_adj</th>\n",
       "      <th>revenue_adj</th>\n",
       "    </tr>\n",
       "  </thead>\n",
       "  <tbody>\n",
       "    <tr>\n",
       "      <th>0</th>\n",
       "      <td>32.985763</td>\n",
       "      <td>150000000</td>\n",
       "      <td>1513528810</td>\n",
       "      <td>Action|Adventure|Science Fiction|Thriller</td>\n",
       "      <td>Universal Studios|Amblin Entertainment|Legenda...</td>\n",
       "      <td>6/9/15</td>\n",
       "      <td>5562</td>\n",
       "      <td>6.5</td>\n",
       "      <td>2015</td>\n",
       "      <td>1.379999e+08</td>\n",
       "      <td>1.392446e+09</td>\n",
       "    </tr>\n",
       "    <tr>\n",
       "      <th>1</th>\n",
       "      <td>28.419936</td>\n",
       "      <td>150000000</td>\n",
       "      <td>378436354</td>\n",
       "      <td>Action|Adventure|Science Fiction|Thriller</td>\n",
       "      <td>Village Roadshow Pictures|Kennedy Miller Produ...</td>\n",
       "      <td>5/13/15</td>\n",
       "      <td>6185</td>\n",
       "      <td>7.1</td>\n",
       "      <td>2015</td>\n",
       "      <td>1.379999e+08</td>\n",
       "      <td>3.481613e+08</td>\n",
       "    </tr>\n",
       "    <tr>\n",
       "      <th>2</th>\n",
       "      <td>13.112507</td>\n",
       "      <td>110000000</td>\n",
       "      <td>295238201</td>\n",
       "      <td>Adventure|Science Fiction|Thriller</td>\n",
       "      <td>Summit Entertainment|Mandeville Films|Red Wago...</td>\n",
       "      <td>3/18/15</td>\n",
       "      <td>2480</td>\n",
       "      <td>6.3</td>\n",
       "      <td>2015</td>\n",
       "      <td>1.012000e+08</td>\n",
       "      <td>2.716190e+08</td>\n",
       "    </tr>\n",
       "    <tr>\n",
       "      <th>3</th>\n",
       "      <td>11.173104</td>\n",
       "      <td>200000000</td>\n",
       "      <td>2068178225</td>\n",
       "      <td>Action|Adventure|Science Fiction|Fantasy</td>\n",
       "      <td>Lucasfilm|Truenorth Productions|Bad Robot</td>\n",
       "      <td>12/15/15</td>\n",
       "      <td>5292</td>\n",
       "      <td>7.5</td>\n",
       "      <td>2015</td>\n",
       "      <td>1.839999e+08</td>\n",
       "      <td>1.902723e+09</td>\n",
       "    </tr>\n",
       "    <tr>\n",
       "      <th>4</th>\n",
       "      <td>9.335014</td>\n",
       "      <td>190000000</td>\n",
       "      <td>1506249360</td>\n",
       "      <td>Action|Crime|Thriller</td>\n",
       "      <td>Universal Pictures|Original Film|Media Rights ...</td>\n",
       "      <td>4/1/15</td>\n",
       "      <td>2947</td>\n",
       "      <td>7.3</td>\n",
       "      <td>2015</td>\n",
       "      <td>1.747999e+08</td>\n",
       "      <td>1.385749e+09</td>\n",
       "    </tr>\n",
       "  </tbody>\n",
       "</table>\n",
       "</div>"
      ],
      "text/plain": [
       "   popularity     budget     revenue  \\\n",
       "0   32.985763  150000000  1513528810   \n",
       "1   28.419936  150000000   378436354   \n",
       "2   13.112507  110000000   295238201   \n",
       "3   11.173104  200000000  2068178225   \n",
       "4    9.335014  190000000  1506249360   \n",
       "\n",
       "                                      genres  \\\n",
       "0  Action|Adventure|Science Fiction|Thriller   \n",
       "1  Action|Adventure|Science Fiction|Thriller   \n",
       "2         Adventure|Science Fiction|Thriller   \n",
       "3   Action|Adventure|Science Fiction|Fantasy   \n",
       "4                      Action|Crime|Thriller   \n",
       "\n",
       "                                production_companies release_date  vote_count  \\\n",
       "0  Universal Studios|Amblin Entertainment|Legenda...       6/9/15        5562   \n",
       "1  Village Roadshow Pictures|Kennedy Miller Produ...      5/13/15        6185   \n",
       "2  Summit Entertainment|Mandeville Films|Red Wago...      3/18/15        2480   \n",
       "3          Lucasfilm|Truenorth Productions|Bad Robot     12/15/15        5292   \n",
       "4  Universal Pictures|Original Film|Media Rights ...       4/1/15        2947   \n",
       "\n",
       "   vote_average  release_year    budget_adj   revenue_adj  \n",
       "0           6.5          2015  1.379999e+08  1.392446e+09  \n",
       "1           7.1          2015  1.379999e+08  3.481613e+08  \n",
       "2           6.3          2015  1.012000e+08  2.716190e+08  \n",
       "3           7.5          2015  1.839999e+08  1.902723e+09  \n",
       "4           7.3          2015  1.747999e+08  1.385749e+09  "
      ]
     },
     "execution_count": 80,
     "metadata": {},
     "output_type": "execute_result"
    }
   ],
   "source": [
    "df.head()"
   ]
  },
  {
   "cell_type": "markdown",
   "id": "1e21492c",
   "metadata": {},
   "source": [
    "The genre columns contains more than one movie genre"
   ]
  },
  {
   "cell_type": "code",
   "execution_count": 81,
   "id": "e2cfb22b",
   "metadata": {},
   "outputs": [
    {
     "data": {
      "text/plain": [
       "(10866, 11)"
      ]
     },
     "execution_count": 81,
     "metadata": {},
     "output_type": "execute_result"
    }
   ],
   "source": [
    "df.shape"
   ]
  },
  {
   "cell_type": "code",
   "execution_count": 82,
   "id": "a4af41ce",
   "metadata": {},
   "outputs": [
    {
     "data": {
      "text/html": [
       "<div>\n",
       "<style scoped>\n",
       "    .dataframe tbody tr th:only-of-type {\n",
       "        vertical-align: middle;\n",
       "    }\n",
       "\n",
       "    .dataframe tbody tr th {\n",
       "        vertical-align: top;\n",
       "    }\n",
       "\n",
       "    .dataframe thead th {\n",
       "        text-align: right;\n",
       "    }\n",
       "</style>\n",
       "<table border=\"1\" class=\"dataframe\">\n",
       "  <thead>\n",
       "    <tr style=\"text-align: right;\">\n",
       "      <th></th>\n",
       "      <th>popularity</th>\n",
       "      <th>budget</th>\n",
       "      <th>revenue</th>\n",
       "      <th>vote_count</th>\n",
       "      <th>vote_average</th>\n",
       "      <th>release_year</th>\n",
       "      <th>budget_adj</th>\n",
       "      <th>revenue_adj</th>\n",
       "    </tr>\n",
       "  </thead>\n",
       "  <tbody>\n",
       "    <tr>\n",
       "      <th>popularity</th>\n",
       "      <td>1.000000</td>\n",
       "      <td>0.545472</td>\n",
       "      <td>0.663358</td>\n",
       "      <td>0.800828</td>\n",
       "      <td>0.209511</td>\n",
       "      <td>0.089801</td>\n",
       "      <td>0.513550</td>\n",
       "      <td>0.609083</td>\n",
       "    </tr>\n",
       "    <tr>\n",
       "      <th>budget</th>\n",
       "      <td>0.545472</td>\n",
       "      <td>1.000000</td>\n",
       "      <td>0.734901</td>\n",
       "      <td>0.632702</td>\n",
       "      <td>0.081014</td>\n",
       "      <td>0.115931</td>\n",
       "      <td>0.968963</td>\n",
       "      <td>0.622505</td>\n",
       "    </tr>\n",
       "    <tr>\n",
       "      <th>revenue</th>\n",
       "      <td>0.663358</td>\n",
       "      <td>0.734901</td>\n",
       "      <td>1.000000</td>\n",
       "      <td>0.791175</td>\n",
       "      <td>0.172564</td>\n",
       "      <td>0.057048</td>\n",
       "      <td>0.706427</td>\n",
       "      <td>0.919110</td>\n",
       "    </tr>\n",
       "    <tr>\n",
       "      <th>vote_count</th>\n",
       "      <td>0.800828</td>\n",
       "      <td>0.632702</td>\n",
       "      <td>0.791175</td>\n",
       "      <td>1.000000</td>\n",
       "      <td>0.253823</td>\n",
       "      <td>0.107948</td>\n",
       "      <td>0.587051</td>\n",
       "      <td>0.707942</td>\n",
       "    </tr>\n",
       "    <tr>\n",
       "      <th>vote_average</th>\n",
       "      <td>0.209511</td>\n",
       "      <td>0.081014</td>\n",
       "      <td>0.172564</td>\n",
       "      <td>0.253823</td>\n",
       "      <td>1.000000</td>\n",
       "      <td>-0.117632</td>\n",
       "      <td>0.093039</td>\n",
       "      <td>0.193085</td>\n",
       "    </tr>\n",
       "    <tr>\n",
       "      <th>release_year</th>\n",
       "      <td>0.089801</td>\n",
       "      <td>0.115931</td>\n",
       "      <td>0.057048</td>\n",
       "      <td>0.107948</td>\n",
       "      <td>-0.117632</td>\n",
       "      <td>1.000000</td>\n",
       "      <td>0.016793</td>\n",
       "      <td>-0.066256</td>\n",
       "    </tr>\n",
       "    <tr>\n",
       "      <th>budget_adj</th>\n",
       "      <td>0.513550</td>\n",
       "      <td>0.968963</td>\n",
       "      <td>0.706427</td>\n",
       "      <td>0.587051</td>\n",
       "      <td>0.093039</td>\n",
       "      <td>0.016793</td>\n",
       "      <td>1.000000</td>\n",
       "      <td>0.646607</td>\n",
       "    </tr>\n",
       "    <tr>\n",
       "      <th>revenue_adj</th>\n",
       "      <td>0.609083</td>\n",
       "      <td>0.622505</td>\n",
       "      <td>0.919110</td>\n",
       "      <td>0.707942</td>\n",
       "      <td>0.193085</td>\n",
       "      <td>-0.066256</td>\n",
       "      <td>0.646607</td>\n",
       "      <td>1.000000</td>\n",
       "    </tr>\n",
       "  </tbody>\n",
       "</table>\n",
       "</div>"
      ],
      "text/plain": [
       "              popularity    budget   revenue  vote_count  vote_average  \\\n",
       "popularity      1.000000  0.545472  0.663358    0.800828      0.209511   \n",
       "budget          0.545472  1.000000  0.734901    0.632702      0.081014   \n",
       "revenue         0.663358  0.734901  1.000000    0.791175      0.172564   \n",
       "vote_count      0.800828  0.632702  0.791175    1.000000      0.253823   \n",
       "vote_average    0.209511  0.081014  0.172564    0.253823      1.000000   \n",
       "release_year    0.089801  0.115931  0.057048    0.107948     -0.117632   \n",
       "budget_adj      0.513550  0.968963  0.706427    0.587051      0.093039   \n",
       "revenue_adj     0.609083  0.622505  0.919110    0.707942      0.193085   \n",
       "\n",
       "              release_year  budget_adj  revenue_adj  \n",
       "popularity        0.089801    0.513550     0.609083  \n",
       "budget            0.115931    0.968963     0.622505  \n",
       "revenue           0.057048    0.706427     0.919110  \n",
       "vote_count        0.107948    0.587051     0.707942  \n",
       "vote_average     -0.117632    0.093039     0.193085  \n",
       "release_year      1.000000    0.016793    -0.066256  \n",
       "budget_adj        0.016793    1.000000     0.646607  \n",
       "revenue_adj      -0.066256    0.646607     1.000000  "
      ]
     },
     "execution_count": 82,
     "metadata": {},
     "output_type": "execute_result"
    }
   ],
   "source": [
    "df.corr()"
   ]
  },
  {
   "cell_type": "code",
   "execution_count": 83,
   "id": "e9a4bde0",
   "metadata": {
    "scrolled": true
   },
   "outputs": [
    {
     "data": {
      "image/png": "[encoded data removed]",
      "text/plain": [
       "<Figure size 720x576 with 9 Axes>"
      ]
     },
     "metadata": {
      "needs_background": "light"
     },
     "output_type": "display_data"
    }
   ],
   "source": [
    "df.hist(figsize=(10,8));"
   ]
  },
  {
   "cell_type": "markdown",
   "id": "8efa50b3",
   "metadata": {},
   "source": [
    "## Explorative data Analysis"
   ]
  },
  {
   "cell_type": "markdown",
   "id": "207c8c4b",
   "metadata": {},
   "source": [
    "### Research Question 1: Which year have the highest revenue generated, the top 5?"
   ]
  },
  {
   "cell_type": "markdown",
   "id": "ea454e8d",
   "metadata": {},
   "source": [
    "###  Univarate Analysis (1D Visualization)"
   ]
  },
  {
   "cell_type": "code",
   "execution_count": 92,
   "id": "fa6502dc",
   "metadata": {},
   "outputs": [
    {
     "data": {
      "image/png": "[encoded data removed]",
      "text/plain": [
       "<Figure size 432x288 with 1 Axes>"
      ]
     },
     "metadata": {
      "needs_background": "light"
     },
     "output_type": "display_data"
    }
   ],
   "source": [
    "df[\"release_year\"].value_counts().sort_values(ascending=False)[:5].plot(kind = \"bar\");# Top No of movies release  Per year"
   ]
  },
  {
   "cell_type": "code",
   "execution_count": 94,
   "id": "709ea745",
   "metadata": {},
   "outputs": [
    {
     "data": {
      "text/html": [
       "<div>\n",
       "<style scoped>\n",
       "    .dataframe tbody tr th:only-of-type {\n",
       "        vertical-align: middle;\n",
       "    }\n",
       "\n",
       "    .dataframe tbody tr th {\n",
       "        vertical-align: top;\n",
       "    }\n",
       "\n",
       "    .dataframe thead th {\n",
       "        text-align: right;\n",
       "    }\n",
       "</style>\n",
       "<table border=\"1\" class=\"dataframe\">\n",
       "  <thead>\n",
       "    <tr style=\"text-align: right;\">\n",
       "      <th></th>\n",
       "      <th>popularity</th>\n",
       "      <th>budget</th>\n",
       "      <th>revenue</th>\n",
       "      <th>genres</th>\n",
       "      <th>production_companies</th>\n",
       "      <th>release_date</th>\n",
       "      <th>vote_count</th>\n",
       "      <th>vote_average</th>\n",
       "      <th>release_year</th>\n",
       "      <th>budget_adj</th>\n",
       "      <th>revenue_adj</th>\n",
       "    </tr>\n",
       "  </thead>\n",
       "  <tbody>\n",
       "    <tr>\n",
       "      <th>0</th>\n",
       "      <td>32.985763</td>\n",
       "      <td>150000000</td>\n",
       "      <td>1513528810</td>\n",
       "      <td>Action|Adventure|Science Fiction|Thriller</td>\n",
       "      <td>Universal Studios|Amblin Entertainment|Legenda...</td>\n",
       "      <td>6/9/15</td>\n",
       "      <td>5562</td>\n",
       "      <td>6.5</td>\n",
       "      <td>2015</td>\n",
       "      <td>1.379999e+08</td>\n",
       "      <td>1.392446e+09</td>\n",
       "    </tr>\n",
       "    <tr>\n",
       "      <th>1</th>\n",
       "      <td>28.419936</td>\n",
       "      <td>150000000</td>\n",
       "      <td>378436354</td>\n",
       "      <td>Action|Adventure|Science Fiction|Thriller</td>\n",
       "      <td>Village Roadshow Pictures|Kennedy Miller Produ...</td>\n",
       "      <td>5/13/15</td>\n",
       "      <td>6185</td>\n",
       "      <td>7.1</td>\n",
       "      <td>2015</td>\n",
       "      <td>1.379999e+08</td>\n",
       "      <td>3.481613e+08</td>\n",
       "    </tr>\n",
       "    <tr>\n",
       "      <th>2</th>\n",
       "      <td>13.112507</td>\n",
       "      <td>110000000</td>\n",
       "      <td>295238201</td>\n",
       "      <td>Adventure|Science Fiction|Thriller</td>\n",
       "      <td>Summit Entertainment|Mandeville Films|Red Wago...</td>\n",
       "      <td>3/18/15</td>\n",
       "      <td>2480</td>\n",
       "      <td>6.3</td>\n",
       "      <td>2015</td>\n",
       "      <td>1.012000e+08</td>\n",
       "      <td>2.716190e+08</td>\n",
       "    </tr>\n",
       "    <tr>\n",
       "      <th>3</th>\n",
       "      <td>11.173104</td>\n",
       "      <td>200000000</td>\n",
       "      <td>2068178225</td>\n",
       "      <td>Action|Adventure|Science Fiction|Fantasy</td>\n",
       "      <td>Lucasfilm|Truenorth Productions|Bad Robot</td>\n",
       "      <td>12/15/15</td>\n",
       "      <td>5292</td>\n",
       "      <td>7.5</td>\n",
       "      <td>2015</td>\n",
       "      <td>1.839999e+08</td>\n",
       "      <td>1.902723e+09</td>\n",
       "    </tr>\n",
       "    <tr>\n",
       "      <th>4</th>\n",
       "      <td>9.335014</td>\n",
       "      <td>190000000</td>\n",
       "      <td>1506249360</td>\n",
       "      <td>Action|Crime|Thriller</td>\n",
       "      <td>Universal Pictures|Original Film|Media Rights ...</td>\n",
       "      <td>4/1/15</td>\n",
       "      <td>2947</td>\n",
       "      <td>7.3</td>\n",
       "      <td>2015</td>\n",
       "      <td>1.747999e+08</td>\n",
       "      <td>1.385749e+09</td>\n",
       "    </tr>\n",
       "  </tbody>\n",
       "</table>\n",
       "</div>"
      ],
      "text/plain": [
       "   popularity     budget     revenue  \\\n",
       "0   32.985763  150000000  1513528810   \n",
       "1   28.419936  150000000   378436354   \n",
       "2   13.112507  110000000   295238201   \n",
       "3   11.173104  200000000  2068178225   \n",
       "4    9.335014  190000000  1506249360   \n",
       "\n",
       "                                      genres  \\\n",
       "0  Action|Adventure|Science Fiction|Thriller   \n",
       "1  Action|Adventure|Science Fiction|Thriller   \n",
       "2         Adventure|Science Fiction|Thriller   \n",
       "3   Action|Adventure|Science Fiction|Fantasy   \n",
       "4                      Action|Crime|Thriller   \n",
       "\n",
       "                                production_companies release_date  vote_count  \\\n",
       "0  Universal Studios|Amblin Entertainment|Legenda...       6/9/15        5562   \n",
       "1  Village Roadshow Pictures|Kennedy Miller Produ...      5/13/15        6185   \n",
       "2  Summit Entertainment|Mandeville Films|Red Wago...      3/18/15        2480   \n",
       "3          Lucasfilm|Truenorth Productions|Bad Robot     12/15/15        5292   \n",
       "4  Universal Pictures|Original Film|Media Rights ...       4/1/15        2947   \n",
       "\n",
       "   vote_average  release_year    budget_adj   revenue_adj  \n",
       "0           6.5          2015  1.379999e+08  1.392446e+09  \n",
       "1           7.1          2015  1.379999e+08  3.481613e+08  \n",
       "2           6.3          2015  1.012000e+08  2.716190e+08  \n",
       "3           7.5          2015  1.839999e+08  1.902723e+09  \n",
       "4           7.3          2015  1.747999e+08  1.385749e+09  "
      ]
     },
     "execution_count": 94,
     "metadata": {},
     "output_type": "execute_result"
    }
   ],
   "source": [
    "df.head()"
   ]
  },
  {
   "cell_type": "markdown",
   "id": "5e2b638e",
   "metadata": {},
   "source": [
    "#### More movies have revenue generated of $1 billion"
   ]
  },
  {
   "cell_type": "code",
   "execution_count": 99,
   "id": "e06ed0a1",
   "metadata": {},
   "outputs": [
    {
     "data": {
      "text/plain": [
       "<AxesSubplot:>"
      ]
     },
     "execution_count": 99,
     "metadata": {},
     "output_type": "execute_result"
    },
    {
     "data": {
      "image/png": "[encoded data removed]",
      "text/plain": [
       "<Figure size 432x288 with 1 Axes>"
      ]
     },
     "metadata": {
      "needs_background": "light"
     },
     "output_type": "display_data"
    }
   ],
   "source": [
    "df[\"revenue\"].hist()"
   ]
  },
  {
   "cell_type": "markdown",
   "id": "62419c81",
   "metadata": {},
   "source": [
    "#### The average revenue generated is about 44 million dollars"
   ]
  },
  {
   "cell_type": "code",
   "execution_count": 100,
   "id": "7cb2dafc",
   "metadata": {},
   "outputs": [
    {
     "data": {
      "text/plain": [
       "43984874.28676096"
      ]
     },
     "execution_count": 100,
     "metadata": {},
     "output_type": "execute_result"
    }
   ],
   "source": [
    "df[\"revenue\"].mean()"
   ]
  },
  {
   "cell_type": "markdown",
   "id": "a3d93621",
   "metadata": {},
   "source": [
    "#### The genre column contains multiple genres, So I removed that column so that we have just a genre per row"
   ]
  },
  {
   "cell_type": "code",
   "execution_count": 101,
   "id": "deca77d5",
   "metadata": {},
   "outputs": [],
   "source": [
    "df.dropna(inplace = True)"
   ]
  },
  {
   "cell_type": "code",
   "execution_count": 102,
   "id": "26e032ad",
   "metadata": {},
   "outputs": [],
   "source": [
    "def split_fun(x):\n",
    "    return x.split(\"|\")[0]"
   ]
  },
  {
   "cell_type": "code",
   "execution_count": 104,
   "id": "b6c02ed7",
   "metadata": {},
   "outputs": [],
   "source": [
    "df[\"genres\"] = df[\"genres\"].apply(split_fun)"
   ]
  },
  {
   "cell_type": "code",
   "execution_count": 105,
   "id": "3559bb5b",
   "metadata": {},
   "outputs": [
    {
     "data": {
      "text/plain": [
       "0             Action\n",
       "1             Action\n",
       "2          Adventure\n",
       "3             Action\n",
       "4             Action\n",
       "            ...     \n",
       "10861    Documentary\n",
       "10862         Action\n",
       "10863        Mystery\n",
       "10864         Action\n",
       "10865         Horror\n",
       "Name: genres, Length: 9827, dtype: object"
      ]
     },
     "execution_count": 105,
     "metadata": {},
     "output_type": "execute_result"
    }
   ],
   "source": [
    "df[\"genres\"]"
   ]
  },
  {
   "cell_type": "code",
   "execution_count": 106,
   "id": "79044e4c",
   "metadata": {},
   "outputs": [
    {
     "data": {
      "image/png": "[encoded data removed]",
      "text/plain": [
       "<Figure size 432x288 with 1 Axes>"
      ]
     },
     "metadata": {
      "needs_background": "light"
     },
     "output_type": "display_data"
    }
   ],
   "source": [
    "df.groupby(\"genres\")[\"revenue\"].sum().sort_values(ascending = False)[:5].plot(kind= \"bar\")\n",
    "plt.title(\"the revenue generated per genre of movies\")\n",
    "plt.xlabel(\"Genres of movies\")\n",
    "plt.ylabel(\"the revenue generated\");"
   ]
  },
  {
   "cell_type": "markdown",
   "id": "da9f9184",
   "metadata": {},
   "source": [
    "### The highest genre based on revenue generated  is Action movies"
   ]
  },
  {
   "cell_type": "markdown",
   "id": "26dd3d76",
   "metadata": {},
   "source": [
    "#### To avoid repeating codes, I defined a function to plot this chart"
   ]
  },
  {
   "cell_type": "code",
   "execution_count": 107,
   "id": "a54b2d8d",
   "metadata": {},
   "outputs": [],
   "source": [
    "def func_plpot():\n",
    "    df.groupby(\"genres\")[\"revenue\"].sum().sort_values(ascending = False)[:5].plot(kind= \"bar\")\n",
    "    plt.title(\"the revenue generated per genre of movies\")\n",
    "    plt.xlabel(\"Genres of movies\")\n",
    "    plt.ylabel(\"the revenue generated\");\n",
    "    "
   ]
  },
  {
   "cell_type": "code",
   "execution_count": 108,
   "id": "e50b5049",
   "metadata": {},
   "outputs": [
    {
     "data": {
      "image/png": "[encoded data removed]",
      "text/plain": [
       "<Figure size 432x288 with 1 Axes>"
      ]
     },
     "metadata": {
      "needs_background": "light"
     },
     "output_type": "display_data"
    }
   ],
   "source": [
    "func_plpot()"
   ]
  },
  {
   "cell_type": "code",
   "execution_count": 109,
   "id": "b5e1211a",
   "metadata": {},
   "outputs": [
    {
     "data": {
      "text/plain": [
       "Index(['popularity', 'budget', 'revenue', 'genres', 'production_companies',\n",
       "       'release_date', 'vote_count', 'vote_average', 'release_year',\n",
       "       'budget_adj', 'revenue_adj'],\n",
       "      dtype='object')"
      ]
     },
     "execution_count": 109,
     "metadata": {},
     "output_type": "execute_result"
    }
   ],
   "source": [
    "df.columns"
   ]
  },
  {
   "cell_type": "code",
   "execution_count": 110,
   "id": "dff96921",
   "metadata": {},
   "outputs": [
    {
     "data": {
      "text/plain": [
       "<AxesSubplot:xlabel='release_date'>"
      ]
     },
     "execution_count": 110,
     "metadata": {},
     "output_type": "execute_result"
    },
    {
     "data": {
      "image/png": "[encoded data removed]",
      "text/plain": [
       "<Figure size 432x288 with 1 Axes>"
      ]
     },
     "metadata": {
      "needs_background": "light"
     },
     "output_type": "display_data"
    }
   ],
   "source": [
    "df.groupby(\"release_date\")[\"revenue\"].mean()[:5].plot(kind = \"bar\")# you can also convert this date to a timestamp object"
   ]
  },
  {
   "cell_type": "markdown",
   "id": "2a6b6400",
   "metadata": {},
   "source": [
    "### The year with highest revenue generrated is 2002"
   ]
  },
  {
   "cell_type": "markdown",
   "id": "4c4b5b7b",
   "metadata": {},
   "source": [
    "### Research Question 2: Does the popularity of a movie have any effect on the revenue generated ?"
   ]
  },
  {
   "cell_type": "code",
   "execution_count": 111,
   "id": "7eed5a31",
   "metadata": {},
   "outputs": [
    {
     "data": {
      "image/png": "[encoded data removed]",
      "text/plain": [
       "<Figure size 432x288 with 1 Axes>"
      ]
     },
     "metadata": {
      "needs_background": "light"
     },
     "output_type": "display_data"
    }
   ],
   "source": [
    "sb.regplot(data = df , x = \"popularity\", y = \"revenue\");"
   ]
  },
  {
   "cell_type": "markdown",
   "id": "7bd3c7dd",
   "metadata": {},
   "source": [
    "### Research Question 3: Does the budget of a movie increases with revenue generated?"
   ]
  },
  {
   "cell_type": "code",
   "execution_count": 112,
   "id": "bb751fe1",
   "metadata": {},
   "outputs": [
    {
     "data": {
      "image/png": "[encoded data removed]",
      "text/plain": [
       "<Figure size 432x288 with 1 Axes>"
      ]
     },
     "metadata": {
      "needs_background": "light"
     },
     "output_type": "display_data"
    }
   ],
   "source": [
    "sb.regplot(data = df , x = \"budget\", y = \"revenue\");"
   ]
  },
  {
   "cell_type": "code",
   "execution_count": 113,
   "id": "65ebfb9e",
   "metadata": {},
   "outputs": [],
   "source": [
    "def relat_func(var1, var2):\n",
    "    \"\"\"To define  a function that will help us eleminate repetitive codes\"\"\"\n",
    "    sb.regplot(data = df , x = var1, y = var2);\n",
    "    "
   ]
  },
  {
   "cell_type": "code",
   "execution_count": 114,
   "id": "21d57176",
   "metadata": {},
   "outputs": [
    {
     "data": {
      "image/png": "[encoded data removed]",
      "text/plain": [
       "<Figure size 432x288 with 1 Axes>"
      ]
     },
     "metadata": {
      "needs_background": "light"
     },
     "output_type": "display_data"
    }
   ],
   "source": [
    "relat_func(\"budget\", \"revenue\");"
   ]
  },
  {
   "cell_type": "code",
   "execution_count": 115,
   "id": "655e2048",
   "metadata": {},
   "outputs": [
    {
     "data": {
      "image/png": "[encoded data removed]",
      "text/plain": [
       "<Figure size 432x288 with 1 Axes>"
      ]
     },
     "metadata": {
      "needs_background": "light"
     },
     "output_type": "display_data"
    }
   ],
   "source": [
    "relat_func(\"vote_count\", \"revenue\");"
   ]
  },
  {
   "cell_type": "markdown",
   "id": "c2ff91d4",
   "metadata": {},
   "source": [
    "### Research Question 4: Which genres are most popular from year to year?"
   ]
  },
  {
   "cell_type": "code",
   "execution_count": 84,
   "id": "38b7ad0c",
   "metadata": {},
   "outputs": [
    {
     "name": "stdout",
     "output_type": "stream",
     "text": [
      "[1960, 1961, 1962, 1963, 1964, 1965, 1966, 1967, 1968, 1969, 1970, 1971, 1972, 1973, 1974, 1975, 1976, 1977, 1978, 1979, 1980, 1981, 1982, 1983, 1984, 1985, 1986, 1987, 1988, 1989, 1990, 1991, 1992, 1993, 1994, 1995, 1996, 1997, 1998, 1999, 2000, 2001, 2002, 2003, 2004, 2005, 2006, 2007, 2008, 2009, 2010, 2011, 2012, 2013, 2014, 2015]\n"
     ]
    }
   ],
   "source": [
    "#collate a list of all movie release year from the datatable.\n",
    "year_list = list(sorted(df['release_year'].unique()))\n",
    "print(year_list)"
   ]
  },
  {
   "cell_type": "code",
   "execution_count": 95,
   "id": "1ab9d846",
   "metadata": {},
   "outputs": [],
   "source": [
    "#change datatypes\n",
    "#column_name = df.columns\n",
    "#column_data_type = []\n",
    "#for column in df.columns:\n",
    "    #column_data_type.append(df[column].dtype)\n",
    "#matched = zip(column_name, column_data_type)\n",
    "#list(matched)\n",
    "df['release_year'] = df['release_year'].astype('string')"
   ]
  },
  {
   "cell_type": "code",
   "execution_count": 96,
   "id": "f3f6aed0",
   "metadata": {},
   "outputs": [],
   "source": [
    "#drop null values\n",
    "df.dropna(inplace=True)"
   ]
  },
  {
   "cell_type": "code",
   "execution_count": 97,
   "id": "6eb22260",
   "metadata": {},
   "outputs": [
    {
     "name": "stdout",
     "output_type": "stream",
     "text": [
      "['the most popular genre for the year 1960 is Drama|Horror|Thriller']\n",
      "['the most popular genre for the year 1961 is Adventure|Animation|Comedy|Family']\n",
      "['the most popular genre for the year 1962 is Adventure|Action|Thriller']\n",
      "['the most popular genre for the year 1963 is Action|Thriller|Adventure']\n",
      "['the most popular genre for the year 1964 is Adventure|Action|Thriller']\n",
      "['the most popular genre for the year 1965 is Adventure|Action|Thriller']\n",
      "['the most popular genre for the year 1966 is Animation|Family|Comedy']\n",
      "['the most popular genre for the year 1967 is Family|Animation|Adventure']\n",
      "['the most popular genre for the year 1968 is Science Fiction|Mystery|Adventure']\n",
      "['the most popular genre for the year 1969 is Adventure|Action|Thriller']\n",
      "['the most popular genre for the year 1970 is Animation|Comedy|Family|Adventure']\n",
      "['the most popular genre for the year 1971 is Science Fiction|Drama']\n",
      "['the most popular genre for the year 1972 is Drama|Crime']\n",
      "['the most popular genre for the year 1973 is Animation|Family']\n",
      "['the most popular genre for the year 1974 is Drama|Crime']\n",
      "['the most popular genre for the year 1975 is Drama']\n",
      "['the most popular genre for the year 1976 is Crime|Drama']\n",
      "['the most popular genre for the year 1977 is Adventure|Action|Science Fiction']\n",
      "['the most popular genre for the year 1978 is Music']\n",
      "['the most popular genre for the year 1979 is Horror|Action|Thriller|Science Fiction']\n",
      "['the most popular genre for the year 1980 is Adventure|Action|Science Fiction']\n",
      "['the most popular genre for the year 1981 is Adventure|Action']\n",
      "['the most popular genre for the year 1982 is Science Fiction|Drama|Thriller']\n",
      "['the most popular genre for the year 1983 is Adventure|Action|Science Fiction']\n",
      "['the most popular genre for the year 1984 is Action|Thriller|Science Fiction']\n",
      "['the most popular genre for the year 1985 is Adventure|Comedy|Science Fiction|Family']\n",
      "['the most popular genre for the year 1986 is Horror|Action|Thriller|Science Fiction']\n",
      "['the most popular genre for the year 1987 is Science Fiction|Action|Adventure|Thriller']\n",
      "['the most popular genre for the year 1988 is Action|Thriller']\n",
      "['the most popular genre for the year 1989 is Animation|Family']\n",
      "['the most popular genre for the year 1990 is Action|Adventure|Science Fiction']\n",
      "['the most popular genre for the year 1991 is Romance|Family|Animation|Fantasy|Music']\n",
      "['the most popular genre for the year 1992 is Crime|Thriller']\n",
      "['the most popular genre for the year 1993 is Romance|Fantasy|Drama|Comedy']\n",
      "['the most popular genre for the year 1994 is Thriller|Crime']\n",
      "['the most popular genre for the year 1995 is Crime|Mystery|Thriller']\n",
      "['the most popular genre for the year 1996 is Action|Adventure|Science Fiction']\n",
      "['the most popular genre for the year 1997 is Drama|Romance|Thriller']\n",
      "['the most popular genre for the year 1998 is Comedy|Drama']\n",
      "['the most popular genre for the year 1999 is Drama']\n",
      "['the most popular genre for the year 2000 is Action|Drama|Adventure']\n",
      "['the most popular genre for the year 2001 is Adventure|Fantasy|Action']\n",
      "['the most popular genre for the year 2002 is Adventure|Fantasy|Action']\n",
      "['the most popular genre for the year 2003 is Adventure|Fantasy|Action']\n",
      "['the most popular genre for the year 2004 is Adventure|Fantasy|Family']\n",
      "['the most popular genre for the year 2005 is Adventure|Fantasy|Family']\n",
      "['the most popular genre for the year 2006 is Fantasy|Action|Science Fiction|Thriller']\n",
      "['the most popular genre for the year 2007 is Adventure|Fantasy|Action']\n",
      "['the most popular genre for the year 2008 is Drama|Action|Crime|Thriller']\n",
      "['the most popular genre for the year 2009 is Action|Adventure|Fantasy|Science Fiction']\n",
      "['the most popular genre for the year 2010 is Action|Thriller|Science Fiction|Mystery|Adventure']\n",
      "['the most popular genre for the year 2011 is Action|Adventure|Science Fiction']\n",
      "['the most popular genre for the year 2012 is Science Fiction|Action|Adventure']\n",
      "['the most popular genre for the year 2013 is Animation|Adventure|Family']\n",
      "['the most popular genre for the year 2014 is Adventure|Drama|Science Fiction']\n",
      "['the most popular genre for the year 2015 is Action|Adventure|Science Fiction|Thriller']\n"
     ]
    }
   ],
   "source": [
    "movie_release_year = sorted(df['release_year'].unique())\n",
    "answer = {}\n",
    "for year in movie_release_year:\n",
    "    year_in_question = df.release_year == year \n",
    "    max_rating = df['popularity'][year_in_question].max()\n",
    "    highest_rating = df.popularity == max_rating\n",
    "    most_popular = df['genres'][highest_rating]\n",
    "    answer[year] = most_popular.values\n",
    "    print(\"the most popular genre for the year \" + year + \" is \" + most_popular.values)"
   ]
  },
  {
   "cell_type": "markdown",
   "id": "8ffc7d46",
   "metadata": {},
   "source": [
    "#### Here, I organize the most popular genres year by year into a dataframe of its own"
   ]
  },
  {
   "cell_type": "code",
   "execution_count": 98,
   "id": "c744bd1a",
   "metadata": {},
   "outputs": [
    {
     "data": {
      "text/html": [
       "<div>\n",
       "<style scoped>\n",
       "    .dataframe tbody tr th:only-of-type {\n",
       "        vertical-align: middle;\n",
       "    }\n",
       "\n",
       "    .dataframe tbody tr th {\n",
       "        vertical-align: top;\n",
       "    }\n",
       "\n",
       "    .dataframe thead th {\n",
       "        text-align: right;\n",
       "    }\n",
       "</style>\n",
       "<table border=\"1\" class=\"dataframe\">\n",
       "  <thead>\n",
       "    <tr style=\"text-align: right;\">\n",
       "      <th></th>\n",
       "      <th>Year</th>\n",
       "      <th>Genre</th>\n",
       "    </tr>\n",
       "  </thead>\n",
       "  <tbody>\n",
       "    <tr>\n",
       "      <th>0</th>\n",
       "      <td>1960</td>\n",
       "      <td>[Drama|Horror|Thriller]</td>\n",
       "    </tr>\n",
       "    <tr>\n",
       "      <th>1</th>\n",
       "      <td>1961</td>\n",
       "      <td>[Adventure|Animation|Comedy|Family]</td>\n",
       "    </tr>\n",
       "    <tr>\n",
       "      <th>2</th>\n",
       "      <td>1962</td>\n",
       "      <td>[Adventure|Action|Thriller]</td>\n",
       "    </tr>\n",
       "    <tr>\n",
       "      <th>3</th>\n",
       "      <td>1963</td>\n",
       "      <td>[Action|Thriller|Adventure]</td>\n",
       "    </tr>\n",
       "    <tr>\n",
       "      <th>4</th>\n",
       "      <td>1964</td>\n",
       "      <td>[Adventure|Action|Thriller]</td>\n",
       "    </tr>\n",
       "    <tr>\n",
       "      <th>5</th>\n",
       "      <td>1965</td>\n",
       "      <td>[Adventure|Action|Thriller]</td>\n",
       "    </tr>\n",
       "    <tr>\n",
       "      <th>6</th>\n",
       "      <td>1966</td>\n",
       "      <td>[Animation|Family|Comedy]</td>\n",
       "    </tr>\n",
       "    <tr>\n",
       "      <th>7</th>\n",
       "      <td>1967</td>\n",
       "      <td>[Family|Animation|Adventure]</td>\n",
       "    </tr>\n",
       "    <tr>\n",
       "      <th>8</th>\n",
       "      <td>1968</td>\n",
       "      <td>[Science Fiction|Mystery|Adventure]</td>\n",
       "    </tr>\n",
       "    <tr>\n",
       "      <th>9</th>\n",
       "      <td>1969</td>\n",
       "      <td>[Adventure|Action|Thriller]</td>\n",
       "    </tr>\n",
       "    <tr>\n",
       "      <th>10</th>\n",
       "      <td>1970</td>\n",
       "      <td>[Animation|Comedy|Family|Adventure]</td>\n",
       "    </tr>\n",
       "    <tr>\n",
       "      <th>11</th>\n",
       "      <td>1971</td>\n",
       "      <td>[Science Fiction|Drama]</td>\n",
       "    </tr>\n",
       "    <tr>\n",
       "      <th>12</th>\n",
       "      <td>1972</td>\n",
       "      <td>[Drama|Crime]</td>\n",
       "    </tr>\n",
       "    <tr>\n",
       "      <th>13</th>\n",
       "      <td>1973</td>\n",
       "      <td>[Animation|Family]</td>\n",
       "    </tr>\n",
       "    <tr>\n",
       "      <th>14</th>\n",
       "      <td>1974</td>\n",
       "      <td>[Drama|Crime]</td>\n",
       "    </tr>\n",
       "    <tr>\n",
       "      <th>15</th>\n",
       "      <td>1975</td>\n",
       "      <td>[Drama]</td>\n",
       "    </tr>\n",
       "    <tr>\n",
       "      <th>16</th>\n",
       "      <td>1976</td>\n",
       "      <td>[Crime|Drama]</td>\n",
       "    </tr>\n",
       "    <tr>\n",
       "      <th>17</th>\n",
       "      <td>1977</td>\n",
       "      <td>[Adventure|Action|Science Fiction]</td>\n",
       "    </tr>\n",
       "    <tr>\n",
       "      <th>18</th>\n",
       "      <td>1978</td>\n",
       "      <td>[Music]</td>\n",
       "    </tr>\n",
       "    <tr>\n",
       "      <th>19</th>\n",
       "      <td>1979</td>\n",
       "      <td>[Horror|Action|Thriller|Science Fiction]</td>\n",
       "    </tr>\n",
       "    <tr>\n",
       "      <th>20</th>\n",
       "      <td>1980</td>\n",
       "      <td>[Adventure|Action|Science Fiction]</td>\n",
       "    </tr>\n",
       "    <tr>\n",
       "      <th>21</th>\n",
       "      <td>1981</td>\n",
       "      <td>[Adventure|Action]</td>\n",
       "    </tr>\n",
       "    <tr>\n",
       "      <th>22</th>\n",
       "      <td>1982</td>\n",
       "      <td>[Science Fiction|Drama|Thriller]</td>\n",
       "    </tr>\n",
       "    <tr>\n",
       "      <th>23</th>\n",
       "      <td>1983</td>\n",
       "      <td>[Adventure|Action|Science Fiction]</td>\n",
       "    </tr>\n",
       "    <tr>\n",
       "      <th>24</th>\n",
       "      <td>1984</td>\n",
       "      <td>[Action|Thriller|Science Fiction]</td>\n",
       "    </tr>\n",
       "    <tr>\n",
       "      <th>25</th>\n",
       "      <td>1985</td>\n",
       "      <td>[Adventure|Comedy|Science Fiction|Family]</td>\n",
       "    </tr>\n",
       "    <tr>\n",
       "      <th>26</th>\n",
       "      <td>1986</td>\n",
       "      <td>[Horror|Action|Thriller|Science Fiction]</td>\n",
       "    </tr>\n",
       "    <tr>\n",
       "      <th>27</th>\n",
       "      <td>1987</td>\n",
       "      <td>[Science Fiction|Action|Adventure|Thriller]</td>\n",
       "    </tr>\n",
       "    <tr>\n",
       "      <th>28</th>\n",
       "      <td>1988</td>\n",
       "      <td>[Action|Thriller]</td>\n",
       "    </tr>\n",
       "    <tr>\n",
       "      <th>29</th>\n",
       "      <td>1989</td>\n",
       "      <td>[Animation|Family]</td>\n",
       "    </tr>\n",
       "    <tr>\n",
       "      <th>30</th>\n",
       "      <td>1990</td>\n",
       "      <td>[Action|Adventure|Science Fiction]</td>\n",
       "    </tr>\n",
       "    <tr>\n",
       "      <th>31</th>\n",
       "      <td>1991</td>\n",
       "      <td>[Romance|Family|Animation|Fantasy|Music]</td>\n",
       "    </tr>\n",
       "    <tr>\n",
       "      <th>32</th>\n",
       "      <td>1992</td>\n",
       "      <td>[Crime|Thriller]</td>\n",
       "    </tr>\n",
       "    <tr>\n",
       "      <th>33</th>\n",
       "      <td>1993</td>\n",
       "      <td>[Romance|Fantasy|Drama|Comedy]</td>\n",
       "    </tr>\n",
       "    <tr>\n",
       "      <th>34</th>\n",
       "      <td>1994</td>\n",
       "      <td>[Thriller|Crime]</td>\n",
       "    </tr>\n",
       "    <tr>\n",
       "      <th>35</th>\n",
       "      <td>1995</td>\n",
       "      <td>[Crime|Mystery|Thriller]</td>\n",
       "    </tr>\n",
       "    <tr>\n",
       "      <th>36</th>\n",
       "      <td>1996</td>\n",
       "      <td>[Action|Adventure|Science Fiction]</td>\n",
       "    </tr>\n",
       "    <tr>\n",
       "      <th>37</th>\n",
       "      <td>1997</td>\n",
       "      <td>[Drama|Romance|Thriller]</td>\n",
       "    </tr>\n",
       "    <tr>\n",
       "      <th>38</th>\n",
       "      <td>1998</td>\n",
       "      <td>[Comedy|Drama]</td>\n",
       "    </tr>\n",
       "    <tr>\n",
       "      <th>39</th>\n",
       "      <td>1999</td>\n",
       "      <td>[Drama]</td>\n",
       "    </tr>\n",
       "    <tr>\n",
       "      <th>40</th>\n",
       "      <td>2000</td>\n",
       "      <td>[Action|Drama|Adventure]</td>\n",
       "    </tr>\n",
       "    <tr>\n",
       "      <th>41</th>\n",
       "      <td>2001</td>\n",
       "      <td>[Adventure|Fantasy|Action]</td>\n",
       "    </tr>\n",
       "    <tr>\n",
       "      <th>42</th>\n",
       "      <td>2002</td>\n",
       "      <td>[Adventure|Fantasy|Action]</td>\n",
       "    </tr>\n",
       "    <tr>\n",
       "      <th>43</th>\n",
       "      <td>2003</td>\n",
       "      <td>[Adventure|Fantasy|Action]</td>\n",
       "    </tr>\n",
       "    <tr>\n",
       "      <th>44</th>\n",
       "      <td>2004</td>\n",
       "      <td>[Adventure|Fantasy|Family]</td>\n",
       "    </tr>\n",
       "    <tr>\n",
       "      <th>45</th>\n",
       "      <td>2005</td>\n",
       "      <td>[Adventure|Fantasy|Family]</td>\n",
       "    </tr>\n",
       "    <tr>\n",
       "      <th>46</th>\n",
       "      <td>2006</td>\n",
       "      <td>[Fantasy|Action|Science Fiction|Thriller]</td>\n",
       "    </tr>\n",
       "    <tr>\n",
       "      <th>47</th>\n",
       "      <td>2007</td>\n",
       "      <td>[Adventure|Fantasy|Action]</td>\n",
       "    </tr>\n",
       "    <tr>\n",
       "      <th>48</th>\n",
       "      <td>2008</td>\n",
       "      <td>[Drama|Action|Crime|Thriller]</td>\n",
       "    </tr>\n",
       "    <tr>\n",
       "      <th>49</th>\n",
       "      <td>2009</td>\n",
       "      <td>[Action|Adventure|Fantasy|Science Fiction]</td>\n",
       "    </tr>\n",
       "    <tr>\n",
       "      <th>50</th>\n",
       "      <td>2010</td>\n",
       "      <td>[Action|Thriller|Science Fiction|Mystery|Adven...</td>\n",
       "    </tr>\n",
       "    <tr>\n",
       "      <th>51</th>\n",
       "      <td>2011</td>\n",
       "      <td>[Action|Adventure|Science Fiction]</td>\n",
       "    </tr>\n",
       "    <tr>\n",
       "      <th>52</th>\n",
       "      <td>2012</td>\n",
       "      <td>[Science Fiction|Action|Adventure]</td>\n",
       "    </tr>\n",
       "    <tr>\n",
       "      <th>53</th>\n",
       "      <td>2013</td>\n",
       "      <td>[Animation|Adventure|Family]</td>\n",
       "    </tr>\n",
       "    <tr>\n",
       "      <th>54</th>\n",
       "      <td>2014</td>\n",
       "      <td>[Adventure|Drama|Science Fiction]</td>\n",
       "    </tr>\n",
       "    <tr>\n",
       "      <th>55</th>\n",
       "      <td>2015</td>\n",
       "      <td>[Action|Adventure|Science Fiction|Thriller]</td>\n",
       "    </tr>\n",
       "  </tbody>\n",
       "</table>\n",
       "</div>"
      ],
      "text/plain": [
       "    Year                                              Genre\n",
       "0   1960                            [Drama|Horror|Thriller]\n",
       "1   1961                [Adventure|Animation|Comedy|Family]\n",
       "2   1962                        [Adventure|Action|Thriller]\n",
       "3   1963                        [Action|Thriller|Adventure]\n",
       "4   1964                        [Adventure|Action|Thriller]\n",
       "5   1965                        [Adventure|Action|Thriller]\n",
       "6   1966                          [Animation|Family|Comedy]\n",
       "7   1967                       [Family|Animation|Adventure]\n",
       "8   1968                [Science Fiction|Mystery|Adventure]\n",
       "9   1969                        [Adventure|Action|Thriller]\n",
       "10  1970                [Animation|Comedy|Family|Adventure]\n",
       "11  1971                            [Science Fiction|Drama]\n",
       "12  1972                                      [Drama|Crime]\n",
       "13  1973                                 [Animation|Family]\n",
       "14  1974                                      [Drama|Crime]\n",
       "15  1975                                            [Drama]\n",
       "16  1976                                      [Crime|Drama]\n",
       "17  1977                 [Adventure|Action|Science Fiction]\n",
       "18  1978                                            [Music]\n",
       "19  1979           [Horror|Action|Thriller|Science Fiction]\n",
       "20  1980                 [Adventure|Action|Science Fiction]\n",
       "21  1981                                 [Adventure|Action]\n",
       "22  1982                   [Science Fiction|Drama|Thriller]\n",
       "23  1983                 [Adventure|Action|Science Fiction]\n",
       "24  1984                  [Action|Thriller|Science Fiction]\n",
       "25  1985          [Adventure|Comedy|Science Fiction|Family]\n",
       "26  1986           [Horror|Action|Thriller|Science Fiction]\n",
       "27  1987        [Science Fiction|Action|Adventure|Thriller]\n",
       "28  1988                                  [Action|Thriller]\n",
       "29  1989                                 [Animation|Family]\n",
       "30  1990                 [Action|Adventure|Science Fiction]\n",
       "31  1991           [Romance|Family|Animation|Fantasy|Music]\n",
       "32  1992                                   [Crime|Thriller]\n",
       "33  1993                     [Romance|Fantasy|Drama|Comedy]\n",
       "34  1994                                   [Thriller|Crime]\n",
       "35  1995                           [Crime|Mystery|Thriller]\n",
       "36  1996                 [Action|Adventure|Science Fiction]\n",
       "37  1997                           [Drama|Romance|Thriller]\n",
       "38  1998                                     [Comedy|Drama]\n",
       "39  1999                                            [Drama]\n",
       "40  2000                           [Action|Drama|Adventure]\n",
       "41  2001                         [Adventure|Fantasy|Action]\n",
       "42  2002                         [Adventure|Fantasy|Action]\n",
       "43  2003                         [Adventure|Fantasy|Action]\n",
       "44  2004                         [Adventure|Fantasy|Family]\n",
       "45  2005                         [Adventure|Fantasy|Family]\n",
       "46  2006          [Fantasy|Action|Science Fiction|Thriller]\n",
       "47  2007                         [Adventure|Fantasy|Action]\n",
       "48  2008                      [Drama|Action|Crime|Thriller]\n",
       "49  2009         [Action|Adventure|Fantasy|Science Fiction]\n",
       "50  2010  [Action|Thriller|Science Fiction|Mystery|Adven...\n",
       "51  2011                 [Action|Adventure|Science Fiction]\n",
       "52  2012                 [Science Fiction|Action|Adventure]\n",
       "53  2013                       [Animation|Adventure|Family]\n",
       "54  2014                  [Adventure|Drama|Science Fiction]\n",
       "55  2015        [Action|Adventure|Science Fiction|Thriller]"
      ]
     },
     "execution_count": 98,
     "metadata": {},
     "output_type": "execute_result"
    }
   ],
   "source": [
    "pd.DataFrame(answer.items(), columns=['Year', 'Genre'])"
   ]
  },
  {
   "cell_type": "markdown",
   "id": "78002600",
   "metadata": {},
   "source": [
    "<a id='conclusions'></a>\n",
    "## Conclusions\n",
    "\n",
    "#### I conclude the analysis of this TMDB-movies dataset by stating that the most popular genres year by year were organized it into a dataframe of its own; Action is the most popular movie genre, and that movies above the 75% have popularity rating of 0.773583, budget of 1.90billion dollars, revenue of 3.07billion, runtime of 172.000000 minutes and vote average of 6.600000. \n",
    "\n",
    "#### Also, I discovered that the popularity of a movie has a positive effect on the revenue generated by that movie, and that the budget of a movie increases with the revenue generated as well\n",
    "\n",
    "\n",
    "## Submitting your Project "
   ]
  },
  {
   "cell_type": "code",
   "execution_count": 118,
   "id": "ddc4cd6a",
   "metadata": {},
   "outputs": [
    {
     "data": {
      "text/plain": [
       "1"
      ]
     },
     "execution_count": 118,
     "metadata": {},
     "output_type": "execute_result"
    }
   ],
   "source": [
    "from subprocess import call\n",
    "call(['python', '-m', 'nbconvert', 'ALXproject1edited.ipynb'])"
   ]
  },
  {
   "cell_type": "code",
   "execution_count": null,
   "id": "0c87583e",
   "metadata": {},
   "outputs": [],
   "source": []
  }
 ],
 "metadata": {
  "kernelspec": {
   "display_name": "Python 3 (ipykernel)",
   "language": "python",
   "name": "python3"
  },
  "language_info": {
   "codemirror_mode": {
    "name": "ipython",
    "version": 3
   },
   "file_extension": ".py",
   "mimetype": "text/x-python",
   "name": "python",
   "nbconvert_exporter": "python",
   "pygments_lexer": "ipython3",
   "version": "3.9.12"
  }
 },
 "nbformat": 4,
 "nbformat_minor": 5
}
